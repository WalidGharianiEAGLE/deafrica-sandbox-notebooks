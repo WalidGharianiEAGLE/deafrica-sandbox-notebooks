{
 "cells": [
  {
   "cell_type": "markdown",
   "metadata": {},
   "source": [
    "# Filter pixel classifications results by segments\n"
   ]
  },
  {
   "cell_type": "code",
   "execution_count": null,
   "metadata": {},
   "outputs": [],
   "source": [
    "import os\n",
    "import sys\n",
    "import gdal\n",
    "import shutil\n",
    "import xarray as xr\n",
    "import geopandas as gpd\n",
    "import subprocess as sp\n",
    "from datacube.utils.cog import write_cog\n",
    "from rsgislib.segmentation import segutils\n",
    "from scipy.ndimage.measurements import _stats\n",
    "\n",
    "sys.path.append('../../Scripts')\n",
    "from deafrica_classificationtools import HiddenPrints\n",
    "\n",
    "%load_ext autoreload\n",
    "%autoreload 2"
   ]
  },
  {
   "cell_type": "markdown",
   "metadata": {},
   "source": [
    "# Analysis Parameters"
   ]
  },
  {
   "cell_type": "code",
   "execution_count": null,
   "metadata": {},
   "outputs": [],
   "source": [
    "test_shapefile = 'data/eastern_testing_sites_2.geojson'\n",
    "\n",
    "results = 'results/classifications/'\n",
    "\n",
    "model_type='gm_mads_two_seasons_20201123'\n",
    "\n",
    "min_seg_size=100 #in number of pixels"
   ]
  },
  {
   "cell_type": "markdown",
   "metadata": {},
   "source": [
    "### Open testing tile shapefile"
   ]
  },
  {
   "cell_type": "code",
   "execution_count": null,
   "metadata": {},
   "outputs": [],
   "source": [
    "gdf = gpd.read_file(test_shapefile)"
   ]
  },
  {
   "cell_type": "markdown",
   "metadata": {},
   "source": [
    "## Image segmentation\n",
    "\n",
    "1. Generate image segments using `rsgislib.ShepherdSeg`\n",
    "2. Find majority (mode) value across each segment\n",
    "5. Write object-based classification to disk"
   ]
  },
  {
   "cell_type": "code",
   "execution_count": null,
   "metadata": {},
   "outputs": [],
   "source": [
    "%%time\n",
    "for g_id in gdf['GRID_ID'][0:1].values:\n",
    "    print('working on grid: ' + g_id)\n",
    "    \n",
    "    #store temp files somewhere\n",
    "    directory=results+'tmp_'+g_id\n",
    "    if not os.path.exists(directory):\n",
    "        os.mkdir(directory)\n",
    "    \n",
    "    tmp='tmp_'+g_id+'/'\n",
    "    \n",
    "    nc = results+'input/Eastern_tile_'+g_id+'_inputs.nc'\n",
    "    ds = xr.open_dataset(nc)\n",
    "    ds=ds[['NDVI_S1', 'NDVI_S2']]\n",
    "    write_cog(ds.to_array(), results+'Eastern_tile_'+g_id+'_NDVI.tif',overwrite=True)\n",
    "    \n",
    "    #inputs to image seg\n",
    "    tiff_to_segment = results+'Eastern_tile_'+g_id+'_NDVI.tif'\n",
    "    kea_file = results+'Eastern_tile_'+g_id+'_NDVI.kea'\n",
    "    segmented_kea_file = results+'Eastern_tile_'+g_id+'_segmented.kea'\n",
    "\n",
    "    #convert tiff to kea\n",
    "    gdal.Translate(destName=kea_file,\n",
    "                   srcDS=tiff_to_segment,\n",
    "                   format='KEA',\n",
    "                   outputSRS='EPSG:6933')\n",
    "    \n",
    "    #run image seg\n",
    "    print('   image segmentation...')\n",
    "    with HiddenPrints():\n",
    "        segutils.runShepherdSegmentation(inputImg=kea_file,\n",
    "                                             outputClumps=segmented_kea_file,\n",
    "                                             tmpath=results+tmp,\n",
    "                                             numClusters=60,\n",
    "                                             minPxls=min_seg_size)\n",
    "    \n",
    "    #open segments, and predictions\n",
    "    segments=xr.open_rasterio(segmented_kea_file).squeeze().values\n",
    "    t = results+ 'predicted/Eastern_tile_'+g_id+'_prediction_pixel_'+model_type+'.tif'\n",
    "    pred = xr.open_rasterio(t).squeeze().drop_vars('band')\n",
    "    \n",
    "    #calculate mode\n",
    "    count, _sum =_stats(pred, labels=segments, index=segments)\n",
    "    mode = _sum > (count/2)\n",
    "    mode = xr.DataArray(mode,  coords=pred.coords, dims=pred.dims, attrs=pred.attrs).astype(np.int16)\n",
    "    \n",
    "    #write to disk\n",
    "    write_cog(mode, results+ 'predicted/Eastern_tile_'+g_id+'_prediction_object_'+model_type+'.tif', overwrite=True)\n",
    "    \n",
    "    #remove the tmp folder\n",
    "    shutil.rmtree(results+tmp)\n",
    "    os.remove(kea_file)\n",
    "    os.remove(segmented_kea_file)\n",
    "    os.remove(results+'Eastern_tile_'+g_id+'_NDVI.tif')"
   ]
  },
  {
   "cell_type": "code",
   "execution_count": null,
   "metadata": {},
   "outputs": [],
   "source": [
    "# xr.open_rasterio(results+ 'predicted/Eastern_tile_'+g_id+'_prediction_object_'+model_type+'.tif').plot(size=12);"
   ]
  },
  {
   "cell_type": "markdown",
   "metadata": {},
   "source": [
    "***\n",
    "## RSGISlib Shepherd Seg tiled examples"
   ]
  },
  {
   "cell_type": "markdown",
   "metadata": {},
   "source": [
    "### single cpu, tiled"
   ]
  },
  {
   "cell_type": "code",
   "execution_count": null,
   "metadata": {},
   "outputs": [],
   "source": [
    "# from rsgislib.rastergis import populateRATWithMode\n",
    "# from rsgislib.rastergis import ratutils\n",
    "\n",
    "# populateRATWithMode(valsimage=results+'Eastern_tile_'+g_id+'_prediction_pixel_'+model_type+'.tif',\n",
    "#                    clumps=results+'Eastern_tile_'+g_id+'_segmented.kea',\n",
    "#                    outcolsname ='mode')\n",
    "\n",
    "# ratutils.populateImageStats(\n",
    "#               inputImage=results+'Eastern_tile_'+g_id+'_prediction_pixel_'+model_type+'.tif',\n",
    "#               clumpsFile=results+'Eastern_tile_'+g_id+'_segmented.kea',\n",
    "#               calcSum=True\n",
    "# )"
   ]
  },
  {
   "cell_type": "code",
   "execution_count": null,
   "metadata": {},
   "outputs": [],
   "source": [
    "%time\n",
    "# #run the segmentation\n",
    "with HiddenPrints():\n",
    "    tiledsegsingle.performTiledSegmentation(kea_file,\n",
    "                                    segmented_kea_file,\n",
    "                                    tmpDIR=temp,\n",
    "                                    numClusters=60,\n",
    "                                    validDataThreshold=validDataTileFraction, \n",
    "                                    tileWidth=width,\n",
    "                                    tileHeight=height,\n",
    "                                    minPxls=9)"
   ]
  },
  {
   "cell_type": "code",
   "execution_count": null,
   "metadata": {},
   "outputs": [],
   "source": [
    "# Attribute segments with zonal mean of input image and output as geotiff\n",
    "meanImage(tiff_to_segment, segmented_kea_file, segments_zonal_mean, \"GTIFF\",rsgislib.TYPE_32FLOAT)"
   ]
  },
  {
   "cell_type": "markdown",
   "metadata": {},
   "source": [
    "### n cpus, tiled"
   ]
  },
  {
   "cell_type": "code",
   "execution_count": null,
   "metadata": {},
   "outputs": [],
   "source": [
    "# %time\n",
    "#run the segmentation\n",
    "with HiddenPrints():\n",
    "    tiledSegParallel.performTiledSegmentation(kea_file,\n",
    "                                segmented_kea_file,\n",
    "                                tmpDIR=temp,\n",
    "                                numClusters=60,\n",
    "                                validDataThreshold=validDataTileFraction, \n",
    "                                tileWidth=width,\n",
    "                                tileHeight=height,\n",
    "                                minPxls=9,\n",
    "                                ncpus=ncpus)\n",
    "\n",
    "# Attribute segments with zonal mean of input image and output as geotiff\n",
    "meanImage(tiff_to_segment, segmented_kea_file, segments_zonal_mean, \"GTIFF\",rsgislib.TYPE_32FLOAT)"
   ]
  }
 ],
 "metadata": {
  "kernelspec": {
   "display_name": "Python 3",
   "language": "python",
   "name": "python3"
  },
  "language_info": {
   "codemirror_mode": {
    "name": "ipython",
    "version": 3
   },
   "file_extension": ".py",
   "mimetype": "text/x-python",
   "name": "python",
   "nbconvert_exporter": "python",
   "pygments_lexer": "ipython3",
   "version": "3.6.9"
  }
 },
 "nbformat": 4,
 "nbformat_minor": 4
}
